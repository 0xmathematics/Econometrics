{
 "cells": [
  {
   "cell_type": "markdown",
   "metadata": {},
   "source": [
    "## Concat Historical GDP data and GDP from FRED"
   ]
  },
  {
   "cell_type": "markdown",
   "metadata": {},
   "source": [
    "##### By Hang Miao"
   ]
  },
  {
   "cell_type": "markdown",
   "metadata": {},
   "source": [
    "##### For class use only, non transferable"
   ]
  },
  {
   "cell_type": "markdown",
   "metadata": {},
   "source": [
    "In this notebook I will use python to perform three tasks. \n",
    "<br>\n",
    "<br>\n",
    "The first one is merging the historical data with the data pulled from FRED. The reason we want to do that is because Bureau of Economics Analysis(BEA) only provide the GDP data starting from 1930 and some of the data before 1960 is incomplete. That is why we see a lot NaN(missing or unavailable data) before 1960s. Fortunately, renowned historian Economists like [Michael Bordo]( https://sites.google.com/site/michaelbordo/ \"click to go to the detailted describtion\") and [Hugh Rockoff]( http://econweb.rutgers.edu/rockoff/ \"click to go to the detailted describtion\") synthesize the previous estimated historical data so we could combine their synthesized historical data with the latest data that we fetched from FRED together. As a result we have a much longer range of annual data from 1880-2018 instead of 1950 - 2018. \n",
    "<br>\n",
    "<br>\n",
    "The second one is providing two different method to compute the growth rate of the GDP. These are 'Percentage change method' and 'log difference method'. The 'Percentage change method' is derived directly from the growth rate definition: $ r_t = \\frac{GDP_{t+1}-GDP_t }{GDP_t}$. The log difference method' is an estimation of growth rate where $ r_t = log(GDP_{t+1}) - log(GDP_{t}) $. In class I will show you the proof why these two method are equivalent under the condition that $GDP_{t+1}$ is not deviate too far from $GDP_t$. From the plot we see the two growth series coincide with each other except in the period of Great depression (nevertheless, even in such extreme case 'Log Difference' method is still a good estimation of the growth rate). \n",
    "<br>\n",
    "<br>\n",
    "The third one is obtaining the summary statistics of growth rate series. i.e the mean, variance, max, min and the quantiles."
   ]
  },
  {
   "cell_type": "code",
   "execution_count": 5,
   "metadata": {},
   "outputs": [],
   "source": [
    "import pandas as pd\n",
    "import numpy as np\n",
    "from math import sqrt\n",
    "from math import log"
   ]
  },
  {
   "cell_type": "code",
   "execution_count": 2,
   "metadata": {},
   "outputs": [
    {
     "name": "stdout",
     "output_type": "stream",
     "text": [
      "1.17.2\n",
      "0.25.1\n"
     ]
    }
   ],
   "source": [
    "print(np.__version__)\n",
    "print(pd.__version__)"
   ]
  },
  {
   "cell_type": "code",
   "execution_count": 6,
   "metadata": {},
   "outputs": [],
   "source": [
    "#setting for \n",
    "%matplotlib inline\n",
    "import matplotlib.pyplot as plt\n",
    "from IPython.core.pylabtools import figsize\n",
    "figsize(20, 5)"
   ]
  },
  {
   "cell_type": "code",
   "execution_count": 7,
   "metadata": {},
   "outputs": [],
   "source": [
    "from fredapi import Fred\n",
    "fred = Fred(api_key='6454787ee0ad3d515189b1ff353020f2')"
   ]
  },
  {
   "cell_type": "markdown",
   "metadata": {},
   "source": [
    "#### Clean Historical US GDP data from [Michael Bordo]( https://sites.google.com/site/michaelbordo/ \"click to go to the detailted describtion\") 's Historical data excel file.\n",
    "[Data Source]( https://sites.google.com/site/michaelbordo/home4 \"click to go to the detailted describtion\") \n",
    "\n",
    "<br>\n",
    "Please put the excel file 'allc1880n2.xls' into the same folder where this notebook located."
   ]
  },
  {
   "cell_type": "code",
   "execution_count": 10,
   "metadata": {},
   "outputs": [],
   "source": [
    "\n",
    "#'allc1880n2.xls' contains several countries historical data, \n",
    "# it has three levels of indices which are Country id, Country name, and Year\n",
    "# pd.read_excel: read excel historical data file from 'allc1880n2.xls', and convert to dataframe. \n",
    "# 'header= ' tells python which rows are the column names not data itself\n",
    "# 'index_col= ' tells python which columns are index not data itself\n",
    "\n",
    "Macro_histo = pd.read_excel('allc1880n2.xls',sheet_name='updated',\n",
    "                            header=[0],index_col = [0,1,2] )"
   ]
  },
  {
   "cell_type": "code",
   "execution_count": 11,
   "metadata": {},
   "outputs": [
    {
     "data": {
      "text/html": [
       "<div>\n",
       "<style scoped>\n",
       "    .dataframe tbody tr th:only-of-type {\n",
       "        vertical-align: middle;\n",
       "    }\n",
       "\n",
       "    .dataframe tbody tr th {\n",
       "        vertical-align: top;\n",
       "    }\n",
       "\n",
       "    .dataframe thead th {\n",
       "        text-align: right;\n",
       "    }\n",
       "</style>\n",
       "<table border=\"1\" class=\"dataframe\">\n",
       "  <thead>\n",
       "    <tr style=\"text-align: right;\">\n",
       "      <th></th>\n",
       "      <th></th>\n",
       "      <th></th>\n",
       "      <th>nGDP</th>\n",
       "      <th>gsugdp</th>\n",
       "      <th>infl</th>\n",
       "      <th>rgdpNEW</th>\n",
       "      <th>rgdpgr</th>\n",
       "      <th>tot</th>\n",
       "      <th>totch</th>\n",
       "      <th>trbgdp</th>\n",
       "      <th>debtgdp</th>\n",
       "      <th>monagglc</th>\n",
       "      <th>...</th>\n",
       "      <th>Depfrz</th>\n",
       "      <th>forbA</th>\n",
       "      <th>forbB</th>\n",
       "      <th>forbC</th>\n",
       "      <th>PubAMC</th>\n",
       "      <th>PDRP</th>\n",
       "      <th>BankStr</th>\n",
       "      <th>UBI</th>\n",
       "      <th>ubin</th>\n",
       "      <th>Branch</th>\n",
       "    </tr>\n",
       "    <tr>\n",
       "      <th>id</th>\n",
       "      <th>Country</th>\n",
       "      <th>Year</th>\n",
       "      <th></th>\n",
       "      <th></th>\n",
       "      <th></th>\n",
       "      <th></th>\n",
       "      <th></th>\n",
       "      <th></th>\n",
       "      <th></th>\n",
       "      <th></th>\n",
       "      <th></th>\n",
       "      <th></th>\n",
       "      <th></th>\n",
       "      <th></th>\n",
       "      <th></th>\n",
       "      <th></th>\n",
       "      <th></th>\n",
       "      <th></th>\n",
       "      <th></th>\n",
       "      <th></th>\n",
       "      <th></th>\n",
       "      <th></th>\n",
       "      <th></th>\n",
       "    </tr>\n",
       "  </thead>\n",
       "  <tbody>\n",
       "    <tr>\n",
       "      <td rowspan=\"5\" valign=\"top\">56</td>\n",
       "      <td rowspan=\"5\" valign=\"top\">ZIMBABWE</td>\n",
       "      <td>1993</td>\n",
       "      <td>42481000000</td>\n",
       "      <td>-9.11937</td>\n",
       "      <td>27.5961</td>\n",
       "      <td>NaN</td>\n",
       "      <td>2.96354</td>\n",
       "      <td>.</td>\n",
       "      <td>-2.9494</td>\n",
       "      <td>-1.89086</td>\n",
       "      <td>21.3531</td>\n",
       "      <td>6258600000</td>\n",
       "      <td>...</td>\n",
       "      <td>.</td>\n",
       "      <td>.</td>\n",
       "      <td>.</td>\n",
       "      <td>.</td>\n",
       "      <td>.</td>\n",
       "      <td>.</td>\n",
       "      <td>.</td>\n",
       "      <td>1</td>\n",
       "      <td>1</td>\n",
       "      <td>.</td>\n",
       "    </tr>\n",
       "    <tr>\n",
       "      <td>1994</td>\n",
       "      <td>55779800000</td>\n",
       "      <td>.</td>\n",
       "      <td>22.2572</td>\n",
       "      <td>NaN</td>\n",
       "      <td>5.95474</td>\n",
       "      <td>.</td>\n",
       "      <td>-0.0198629</td>\n",
       "      <td>-6.39119</td>\n",
       "      <td>.</td>\n",
       "      <td>7396000000</td>\n",
       "      <td>...</td>\n",
       "      <td>.</td>\n",
       "      <td>.</td>\n",
       "      <td>.</td>\n",
       "      <td>.</td>\n",
       "      <td>.</td>\n",
       "      <td>.</td>\n",
       "      <td>.</td>\n",
       "      <td>1</td>\n",
       "      <td>1</td>\n",
       "      <td>.</td>\n",
       "    </tr>\n",
       "    <tr>\n",
       "      <td>1995</td>\n",
       "      <td>61393400000</td>\n",
       "      <td>.</td>\n",
       "      <td>22.5941</td>\n",
       "      <td>NaN</td>\n",
       "      <td>-2.32685</td>\n",
       "      <td>.</td>\n",
       "      <td>-0.665541</td>\n",
       "      <td>.</td>\n",
       "      <td>.</td>\n",
       "      <td>11269800000</td>\n",
       "      <td>...</td>\n",
       "      <td>.</td>\n",
       "      <td>.</td>\n",
       "      <td>.</td>\n",
       "      <td>.</td>\n",
       "      <td>.</td>\n",
       "      <td>.</td>\n",
       "      <td>.</td>\n",
       "      <td>1</td>\n",
       "      <td>1</td>\n",
       "      <td>.</td>\n",
       "    </tr>\n",
       "    <tr>\n",
       "      <td>1996</td>\n",
       "      <td>84785600000</td>\n",
       "      <td>.</td>\n",
       "      <td>21.43</td>\n",
       "      <td>NaN</td>\n",
       "      <td>7.75165</td>\n",
       "      <td>.</td>\n",
       "      <td>0.13</td>\n",
       "      <td>.</td>\n",
       "      <td>.</td>\n",
       "      <td>13874500000</td>\n",
       "      <td>...</td>\n",
       "      <td>.</td>\n",
       "      <td>.</td>\n",
       "      <td>.</td>\n",
       "      <td>.</td>\n",
       "      <td>.</td>\n",
       "      <td>.</td>\n",
       "      <td>.</td>\n",
       "      <td>1</td>\n",
       "      <td>1</td>\n",
       "      <td>.</td>\n",
       "    </tr>\n",
       "    <tr>\n",
       "      <td>1997</td>\n",
       "      <td>.</td>\n",
       "      <td>.</td>\n",
       "      <td>18.7433</td>\n",
       "      <td>NaN</td>\n",
       "      <td>4.40167</td>\n",
       "      <td>.</td>\n",
       "      <td>-0.552282</td>\n",
       "      <td>.</td>\n",
       "      <td>.</td>\n",
       "      <td>21319900000</td>\n",
       "      <td>...</td>\n",
       "      <td>.</td>\n",
       "      <td>.</td>\n",
       "      <td>.</td>\n",
       "      <td>.</td>\n",
       "      <td>.</td>\n",
       "      <td>.</td>\n",
       "      <td>.</td>\n",
       "      <td>1</td>\n",
       "      <td>1</td>\n",
       "      <td>.</td>\n",
       "    </tr>\n",
       "  </tbody>\n",
       "</table>\n",
       "<p>5 rows × 79 columns</p>\n",
       "</div>"
      ],
      "text/plain": [
       "                         nGDP   gsugdp     infl rgdpNEW   rgdpgr tot  \\\n",
       "id Country  Year                                                       \n",
       "56 ZIMBABWE 1993  42481000000 -9.11937  27.5961     NaN  2.96354   .   \n",
       "            1994  55779800000        .  22.2572     NaN  5.95474   .   \n",
       "            1995  61393400000        .  22.5941     NaN -2.32685   .   \n",
       "            1996  84785600000        .    21.43     NaN  7.75165   .   \n",
       "            1997            .        .  18.7433     NaN  4.40167   .   \n",
       "\n",
       "                      totch   trbgdp  debtgdp     monagglc  ... Depfrz forbA  \\\n",
       "id Country  Year                                            ...                \n",
       "56 ZIMBABWE 1993    -2.9494 -1.89086  21.3531   6258600000  ...      .     .   \n",
       "            1994 -0.0198629 -6.39119        .   7396000000  ...      .     .   \n",
       "            1995  -0.665541        .        .  11269800000  ...      .     .   \n",
       "            1996       0.13        .        .  13874500000  ...      .     .   \n",
       "            1997  -0.552282        .        .  21319900000  ...      .     .   \n",
       "\n",
       "                 forbB forbC PubAMC PDRP BankStr UBI ubin Branch  \n",
       "id Country  Year                                                  \n",
       "56 ZIMBABWE 1993     .     .      .    .       .   1    1      .  \n",
       "            1994     .     .      .    .       .   1    1      .  \n",
       "            1995     .     .      .    .       .   1    1      .  \n",
       "            1996     .     .      .    .       .   1    1      .  \n",
       "            1997     .     .      .    .       .   1    1      .  \n",
       "\n",
       "[5 rows x 79 columns]"
      ]
     },
     "execution_count": 11,
     "metadata": {},
     "output_type": "execute_result"
    }
   ],
   "source": [
    "Macro_histo.tail(5)"
   ]
  },
  {
   "cell_type": "code",
   "execution_count": 12,
   "metadata": {},
   "outputs": [
    {
     "name": "stdout",
     "output_type": "stream",
     "text": [
      "Int64Index([ 1,  2,  3,  4,  5,  6,  7,  8,  9, 10, 11, 12, 13, 14, 15, 16, 17,\n",
      "            18, 19, 20, 21, 22, 23, 24, 25, 26, 27, 28, 29, 30, 31, 32, 33, 34,\n",
      "            35, 36, 37, 38, 39, 40, 41, 42, 43, 44, 45, 46, 47, 48, 49, 50, 51,\n",
      "            52, 53, 54, 55, 56],\n",
      "           dtype='int64', name='id')\n",
      "Index(['Argentina', 'Australia', 'Austria', 'Bangladesh', 'Belgium', 'Brazil',\n",
      "       'COLOMBIA', 'COSTA RICA', 'COTE D'IVOIRE', 'Canada', 'Chile', 'China',\n",
      "       'Denmark', 'ECUADOR', 'EGYPT', 'Finland', 'France', 'GHANA', 'Germany',\n",
      "       'Greece', 'HONG KONG', 'ICELAND', 'INDIA', 'INDONESIA', 'IRELAND',\n",
      "       'ISRAEL', 'Italy', 'JAMAICA', 'Japan', 'KOREA', 'MALAYSIA', 'MEXICO',\n",
      "       'NEW ZEALAND', 'NIGERIA', 'Netherlands', 'Norway', 'PAKISTAN',\n",
      "       'PARAGUAY', 'PERU', 'PHILIPPINES', 'Portugal', 'SENEGAL', 'SINGAPORE',\n",
      "       'SOUTH AFRICA', 'SRI LANKA', 'Spain', 'Sweden', 'Switzerland', 'TAIWAN',\n",
      "       'THAILAND', 'TURKEY', 'URUGUAY', 'United Kingdom', 'United States',\n",
      "       'VENEZUELA', 'ZIMBABWE'],\n",
      "      dtype='object', name='Country')\n",
      "Int64Index([1880, 1881, 1882, 1883, 1884, 1885, 1886, 1887, 1888, 1889,\n",
      "            ...\n",
      "            1988, 1989, 1990, 1991, 1992, 1993, 1994, 1995, 1996, 1997],\n",
      "           dtype='int64', name='Year', length=118)\n"
     ]
    }
   ],
   "source": [
    "# list the index item in first level: country id\n",
    "print(Macro_histo.index.levels[0])\n",
    "# list the index item in second level: country\n",
    "print(Macro_histo.index.levels[1])\n",
    "# list the index item in third level: year\n",
    "print(Macro_histo.index.levels[2])"
   ]
  },
  {
   "cell_type": "code",
   "execution_count": 13,
   "metadata": {},
   "outputs": [
    {
     "data": {
      "text/html": [
       "<div>\n",
       "<style scoped>\n",
       "    .dataframe tbody tr th:only-of-type {\n",
       "        vertical-align: middle;\n",
       "    }\n",
       "\n",
       "    .dataframe tbody tr th {\n",
       "        vertical-align: top;\n",
       "    }\n",
       "\n",
       "    .dataframe thead th {\n",
       "        text-align: right;\n",
       "    }\n",
       "</style>\n",
       "<table border=\"1\" class=\"dataframe\">\n",
       "  <thead>\n",
       "    <tr style=\"text-align: right;\">\n",
       "      <th></th>\n",
       "      <th></th>\n",
       "      <th></th>\n",
       "      <th>nGDP</th>\n",
       "      <th>gsugdp</th>\n",
       "      <th>infl</th>\n",
       "      <th>rgdpNEW</th>\n",
       "      <th>rgdpgr</th>\n",
       "      <th>tot</th>\n",
       "      <th>totch</th>\n",
       "      <th>trbgdp</th>\n",
       "      <th>debtgdp</th>\n",
       "      <th>monagglc</th>\n",
       "      <th>...</th>\n",
       "      <th>Depfrz</th>\n",
       "      <th>forbA</th>\n",
       "      <th>forbB</th>\n",
       "      <th>forbC</th>\n",
       "      <th>PubAMC</th>\n",
       "      <th>PDRP</th>\n",
       "      <th>BankStr</th>\n",
       "      <th>UBI</th>\n",
       "      <th>ubin</th>\n",
       "      <th>Branch</th>\n",
       "    </tr>\n",
       "    <tr>\n",
       "      <th>id</th>\n",
       "      <th>Country</th>\n",
       "      <th>Year</th>\n",
       "      <th></th>\n",
       "      <th></th>\n",
       "      <th></th>\n",
       "      <th></th>\n",
       "      <th></th>\n",
       "      <th></th>\n",
       "      <th></th>\n",
       "      <th></th>\n",
       "      <th></th>\n",
       "      <th></th>\n",
       "      <th></th>\n",
       "      <th></th>\n",
       "      <th></th>\n",
       "      <th></th>\n",
       "      <th></th>\n",
       "      <th></th>\n",
       "      <th></th>\n",
       "      <th></th>\n",
       "      <th></th>\n",
       "      <th></th>\n",
       "      <th></th>\n",
       "    </tr>\n",
       "  </thead>\n",
       "  <tbody>\n",
       "    <tr>\n",
       "      <td rowspan=\"5\" valign=\"top\">53</td>\n",
       "      <td rowspan=\"5\" valign=\"top\">United States</td>\n",
       "      <td>1880</td>\n",
       "      <td>10150000000</td>\n",
       "      <td>0.650246</td>\n",
       "      <td>.</td>\n",
       "      <td>NaN</td>\n",
       "      <td>-77.8595</td>\n",
       "      <td>89.7</td>\n",
       "      <td>.</td>\n",
       "      <td>2.55764</td>\n",
       "      <td>.</td>\n",
       "      <td>2760000000</td>\n",
       "      <td>...</td>\n",
       "      <td>.</td>\n",
       "      <td>.</td>\n",
       "      <td>.</td>\n",
       "      <td>.</td>\n",
       "      <td>.</td>\n",
       "      <td>.</td>\n",
       "      <td>.</td>\n",
       "      <td>3</td>\n",
       "      <td>3</td>\n",
       "      <td>0</td>\n",
       "    </tr>\n",
       "    <tr>\n",
       "      <td>1881</td>\n",
       "      <td>11270000000</td>\n",
       "      <td>0.887311</td>\n",
       "      <td>0</td>\n",
       "      <td>NaN</td>\n",
       "      <td>11.0345</td>\n",
       "      <td>96.4</td>\n",
       "      <td>7.46934</td>\n",
       "      <td>0.229814</td>\n",
       "      <td>.</td>\n",
       "      <td>3310000000</td>\n",
       "      <td>...</td>\n",
       "      <td>.</td>\n",
       "      <td>.</td>\n",
       "      <td>.</td>\n",
       "      <td>.</td>\n",
       "      <td>.</td>\n",
       "      <td>.</td>\n",
       "      <td>.</td>\n",
       "      <td>3</td>\n",
       "      <td>3</td>\n",
       "      <td>0</td>\n",
       "    </tr>\n",
       "    <tr>\n",
       "      <td>1882</td>\n",
       "      <td>12160000000</td>\n",
       "      <td>1.20066</td>\n",
       "      <td>0</td>\n",
       "      <td>NaN</td>\n",
       "      <td>7.89707</td>\n",
       "      <td>98.8</td>\n",
       "      <td>2.48963</td>\n",
       "      <td>0.828947</td>\n",
       "      <td>.</td>\n",
       "      <td>3570000000</td>\n",
       "      <td>...</td>\n",
       "      <td>.</td>\n",
       "      <td>.</td>\n",
       "      <td>.</td>\n",
       "      <td>.</td>\n",
       "      <td>.</td>\n",
       "      <td>.</td>\n",
       "      <td>.</td>\n",
       "      <td>3</td>\n",
       "      <td>3</td>\n",
       "      <td>0</td>\n",
       "    </tr>\n",
       "    <tr>\n",
       "      <td>1883</td>\n",
       "      <td>11550000000</td>\n",
       "      <td>1.15152</td>\n",
       "      <td>-3.44828</td>\n",
       "      <td>NaN</td>\n",
       "      <td>-1.62418</td>\n",
       "      <td>99.6</td>\n",
       "      <td>0.809717</td>\n",
       "      <td>0.628571</td>\n",
       "      <td>.</td>\n",
       "      <td>3790000000</td>\n",
       "      <td>...</td>\n",
       "      <td>.</td>\n",
       "      <td>.</td>\n",
       "      <td>.</td>\n",
       "      <td>.</td>\n",
       "      <td>.</td>\n",
       "      <td>.</td>\n",
       "      <td>.</td>\n",
       "      <td>3</td>\n",
       "      <td>3</td>\n",
       "      <td>0</td>\n",
       "    </tr>\n",
       "    <tr>\n",
       "      <td>1884</td>\n",
       "      <td>10970000000</td>\n",
       "      <td>0.957156</td>\n",
       "      <td>-3.57143</td>\n",
       "      <td>NaN</td>\n",
       "      <td>-1.50393</td>\n",
       "      <td>102.3</td>\n",
       "      <td>2.71084</td>\n",
       "      <td>1.49954</td>\n",
       "      <td>.</td>\n",
       "      <td>3790000000</td>\n",
       "      <td>...</td>\n",
       "      <td>.</td>\n",
       "      <td>.</td>\n",
       "      <td>.</td>\n",
       "      <td>.</td>\n",
       "      <td>.</td>\n",
       "      <td>.</td>\n",
       "      <td>.</td>\n",
       "      <td>3</td>\n",
       "      <td>3</td>\n",
       "      <td>0</td>\n",
       "    </tr>\n",
       "  </tbody>\n",
       "</table>\n",
       "<p>5 rows × 79 columns</p>\n",
       "</div>"
      ],
      "text/plain": [
       "                              nGDP    gsugdp     infl rgdpNEW   rgdpgr    tot  \\\n",
       "id Country       Year                                                           \n",
       "53 United States 1880  10150000000  0.650246        .     NaN -77.8595   89.7   \n",
       "                 1881  11270000000  0.887311        0     NaN  11.0345   96.4   \n",
       "                 1882  12160000000   1.20066        0     NaN  7.89707   98.8   \n",
       "                 1883  11550000000   1.15152 -3.44828     NaN -1.62418   99.6   \n",
       "                 1884  10970000000  0.957156 -3.57143     NaN -1.50393  102.3   \n",
       "\n",
       "                          totch    trbgdp debtgdp    monagglc  ... Depfrz  \\\n",
       "id Country       Year                                          ...          \n",
       "53 United States 1880         .   2.55764       .  2760000000  ...      .   \n",
       "                 1881   7.46934  0.229814       .  3310000000  ...      .   \n",
       "                 1882   2.48963  0.828947       .  3570000000  ...      .   \n",
       "                 1883  0.809717  0.628571       .  3790000000  ...      .   \n",
       "                 1884   2.71084   1.49954       .  3790000000  ...      .   \n",
       "\n",
       "                      forbA forbB forbC PubAMC PDRP BankStr UBI ubin Branch  \n",
       "id Country       Year                                                        \n",
       "53 United States 1880     .     .     .      .    .       .   3    3      0  \n",
       "                 1881     .     .     .      .    .       .   3    3      0  \n",
       "                 1882     .     .     .      .    .       .   3    3      0  \n",
       "                 1883     .     .     .      .    .       .   3    3      0  \n",
       "                 1884     .     .     .      .    .       .   3    3      0  \n",
       "\n",
       "[5 rows x 79 columns]"
      ]
     },
     "execution_count": 13,
     "metadata": {},
     "output_type": "execute_result"
    }
   ],
   "source": [
    "#make a inquiry for the data which country equals 'Unitied States' \n",
    "#and store the data into the variable named 'Macro_histo_USA'\n",
    "Macro_histo_USA = Macro_histo[Macro_histo.index.get_level_values('Country') == 'United States']\n",
    "Macro_histo_USA.head(5)"
   ]
  },
  {
   "cell_type": "code",
   "execution_count": 14,
   "metadata": {},
   "outputs": [
    {
     "name": "stdout",
     "output_type": "stream",
     "text": [
      "<class 'pandas.core.series.Series'>\n"
     ]
    },
    {
     "data": {
      "text/plain": [
       "Year\n",
       "1880    10150000000\n",
       "1881    11270000000\n",
       "1882    12160000000\n",
       "1883    11550000000\n",
       "Name: nGDP, dtype: object"
      ]
     },
     "execution_count": 14,
     "metadata": {},
     "output_type": "execute_result"
    }
   ],
   "source": [
    "histo_GDP = Macro_histo_USA['nGDP'].copy()\n",
    "histo_GDP.reset_index(level=['id','Country'], drop = True, inplace = True)\n",
    "#histo_GDP.reset_index(level= 'Year',  inplace = True)\n",
    "#histo_GDP['time'] = pd.to_datetime(histo_GDP.index.levels[2])\n",
    "print(type(histo_GDP))\n",
    "histo_GDP.head(4)"
   ]
  },
  {
   "cell_type": "code",
   "execution_count": 15,
   "metadata": {},
   "outputs": [],
   "source": [
    "#measured in billion\n",
    "histo_GDP =histo_GDP/1000000000"
   ]
  },
  {
   "cell_type": "code",
   "execution_count": 16,
   "metadata": {},
   "outputs": [
    {
     "data": {
      "text/plain": [
       "Year\n",
       "1880    10.15\n",
       "1881    11.27\n",
       "1882    12.16\n",
       "1883    11.55\n",
       "Name: nGDP, dtype: object"
      ]
     },
     "execution_count": 16,
     "metadata": {},
     "output_type": "execute_result"
    }
   ],
   "source": [
    "histo_GDP.head(4)"
   ]
  },
  {
   "cell_type": "code",
   "execution_count": 17,
   "metadata": {},
   "outputs": [
    {
     "data": {
      "text/html": [
       "<div>\n",
       "<style scoped>\n",
       "    .dataframe tbody tr th:only-of-type {\n",
       "        vertical-align: middle;\n",
       "    }\n",
       "\n",
       "    .dataframe tbody tr th {\n",
       "        vertical-align: top;\n",
       "    }\n",
       "\n",
       "    .dataframe thead th {\n",
       "        text-align: right;\n",
       "    }\n",
       "</style>\n",
       "<table border=\"1\" class=\"dataframe\">\n",
       "  <thead>\n",
       "    <tr style=\"text-align: right;\">\n",
       "      <th></th>\n",
       "      <th>nGDP</th>\n",
       "    </tr>\n",
       "    <tr>\n",
       "      <th>Year</th>\n",
       "      <th></th>\n",
       "    </tr>\n",
       "  </thead>\n",
       "  <tbody>\n",
       "    <tr>\n",
       "      <td>1994</td>\n",
       "      <td>6722.9</td>\n",
       "    </tr>\n",
       "    <tr>\n",
       "      <td>1995</td>\n",
       "      <td>7033.6</td>\n",
       "    </tr>\n",
       "    <tr>\n",
       "      <td>1996</td>\n",
       "      <td>7390.6</td>\n",
       "    </tr>\n",
       "    <tr>\n",
       "      <td>1997</td>\n",
       "      <td>7823.3</td>\n",
       "    </tr>\n",
       "  </tbody>\n",
       "</table>\n",
       "</div>"
      ],
      "text/plain": [
       "        nGDP\n",
       "Year        \n",
       "1994  6722.9\n",
       "1995  7033.6\n",
       "1996  7390.6\n",
       "1997  7823.3"
      ]
     },
     "execution_count": 17,
     "metadata": {},
     "output_type": "execute_result"
    }
   ],
   "source": [
    "#transform \n",
    "df_histo_GDP = pd.DataFrame(histo_GDP)\n",
    "df_histo_GDP.tail(4)"
   ]
  },
  {
   "cell_type": "code",
   "execution_count": 18,
   "metadata": {},
   "outputs": [],
   "source": [
    "#transform the string type of the original index/column 'Year' to a datetime object \n",
    "import datetime\n",
    "df_histo_GDP['Time'] = pd.to_datetime(df_histo_GDP.index,format='%Y')\n",
    "df_histo_GDP.index = df_histo_GDP['Time'] \n",
    "del df_histo_GDP['Time']\n",
    "#del df_histo_GDP['time']"
   ]
  },
  {
   "cell_type": "code",
   "execution_count": 19,
   "metadata": {},
   "outputs": [
    {
     "data": {
      "text/html": [
       "<div>\n",
       "<style scoped>\n",
       "    .dataframe tbody tr th:only-of-type {\n",
       "        vertical-align: middle;\n",
       "    }\n",
       "\n",
       "    .dataframe tbody tr th {\n",
       "        vertical-align: top;\n",
       "    }\n",
       "\n",
       "    .dataframe thead th {\n",
       "        text-align: right;\n",
       "    }\n",
       "</style>\n",
       "<table border=\"1\" class=\"dataframe\">\n",
       "  <thead>\n",
       "    <tr style=\"text-align: right;\">\n",
       "      <th></th>\n",
       "      <th>nGDP</th>\n",
       "    </tr>\n",
       "    <tr>\n",
       "      <th>Time</th>\n",
       "      <th></th>\n",
       "    </tr>\n",
       "  </thead>\n",
       "  <tbody>\n",
       "    <tr>\n",
       "      <td>1994-01-01</td>\n",
       "      <td>6722.9</td>\n",
       "    </tr>\n",
       "    <tr>\n",
       "      <td>1995-01-01</td>\n",
       "      <td>7033.6</td>\n",
       "    </tr>\n",
       "    <tr>\n",
       "      <td>1996-01-01</td>\n",
       "      <td>7390.6</td>\n",
       "    </tr>\n",
       "    <tr>\n",
       "      <td>1997-01-01</td>\n",
       "      <td>7823.3</td>\n",
       "    </tr>\n",
       "  </tbody>\n",
       "</table>\n",
       "</div>"
      ],
      "text/plain": [
       "              nGDP\n",
       "Time              \n",
       "1994-01-01  6722.9\n",
       "1995-01-01  7033.6\n",
       "1996-01-01  7390.6\n",
       "1997-01-01  7823.3"
      ]
     },
     "execution_count": 19,
     "metadata": {},
     "output_type": "execute_result"
    }
   ],
   "source": [
    "df_histo_GDP.tail(4)"
   ]
  },
  {
   "cell_type": "markdown",
   "metadata": {
    "collapsed": true
   },
   "source": [
    "#### Pull the latest GNP GDP from FRED"
   ]
  },
  {
   "cell_type": "code",
   "execution_count": 20,
   "metadata": {},
   "outputs": [],
   "source": [
    "#GNP with quarterly frequency\n",
    "GNP_Quarter = fred.get_series('GNP')\n",
    "#GNP with annually frequency\n",
    "GNP_Annual = fred.get_series('GNPA')\n",
    "#GDP with quarterly frequency\n",
    "GDP_Quarter = fred.get_series('GDP')\n",
    "#GDP with annually frequency\n",
    "GDP_Annual = fred.get_series('GDPA')\n",
    "\n",
    "Real_GDP_Quarter = fred.get_series('GDPC1')\n",
    "Real_GDP_Annual = fred.get_series('GDPCA')\n",
    "\n",
    "#GDP Deflator\n",
    "GDPDEF_Quarterly = fred.get_series('GDPDEF')"
   ]
  },
  {
   "cell_type": "code",
   "execution_count": 21,
   "metadata": {},
   "outputs": [
    {
     "data": {
      "text/plain": [
       "<matplotlib.axes._subplots.AxesSubplot at 0x11e68dd50>"
      ]
     },
     "execution_count": 21,
     "metadata": {},
     "output_type": "execute_result"
    },
    {
     "data": {
      "image/png": "[encoded data removed]",
      "text/plain": [
       "<Figure size 1440x360 with 1 Axes>"
      ]
     },
     "metadata": {
      "needs_background": "light"
     },
     "output_type": "display_data"
    }
   ],
   "source": [
    "df = {}\n",
    "\n",
    "df['GDP'] = GDP_Quarter\n",
    "df['HistoGDP'] = df_histo_GDP['nGDP']\n",
    "df = pd.DataFrame(df)\n",
    "df.plot()\n"
   ]
  },
  {
   "cell_type": "code",
   "execution_count": 24,
   "metadata": {},
   "outputs": [],
   "source": [
    "# Transform the Quarter frequency series GDP_Quarter to a annual frequency curve\n",
    "df_Annual = df.groupby(pd.Grouper(freq='YS')).nth(0) #year start, Y stands for year end\n"
   ]
  },
  {
   "cell_type": "code",
   "execution_count": 25,
   "metadata": {},
   "outputs": [
    {
     "data": {
      "text/html": [
       "<div>\n",
       "<style scoped>\n",
       "    .dataframe tbody tr th:only-of-type {\n",
       "        vertical-align: middle;\n",
       "    }\n",
       "\n",
       "    .dataframe tbody tr th {\n",
       "        vertical-align: top;\n",
       "    }\n",
       "\n",
       "    .dataframe thead th {\n",
       "        text-align: right;\n",
       "    }\n",
       "</style>\n",
       "<table border=\"1\" class=\"dataframe\">\n",
       "  <thead>\n",
       "    <tr style=\"text-align: right;\">\n",
       "      <th></th>\n",
       "      <th>GDP</th>\n",
       "      <th>HistoGDP</th>\n",
       "    </tr>\n",
       "  </thead>\n",
       "  <tbody>\n",
       "    <tr>\n",
       "      <td>1880-01-01</td>\n",
       "      <td>NaN</td>\n",
       "      <td>10.15</td>\n",
       "    </tr>\n",
       "    <tr>\n",
       "      <td>1881-01-01</td>\n",
       "      <td>NaN</td>\n",
       "      <td>11.27</td>\n",
       "    </tr>\n",
       "    <tr>\n",
       "      <td>1882-01-01</td>\n",
       "      <td>NaN</td>\n",
       "      <td>12.16</td>\n",
       "    </tr>\n",
       "    <tr>\n",
       "      <td>1883-01-01</td>\n",
       "      <td>NaN</td>\n",
       "      <td>11.55</td>\n",
       "    </tr>\n",
       "    <tr>\n",
       "      <td>1884-01-01</td>\n",
       "      <td>NaN</td>\n",
       "      <td>10.97</td>\n",
       "    </tr>\n",
       "  </tbody>\n",
       "</table>\n",
       "</div>"
      ],
      "text/plain": [
       "            GDP HistoGDP\n",
       "1880-01-01  NaN    10.15\n",
       "1881-01-01  NaN    11.27\n",
       "1882-01-01  NaN    12.16\n",
       "1883-01-01  NaN    11.55\n",
       "1884-01-01  NaN    10.97"
      ]
     },
     "execution_count": 25,
     "metadata": {},
     "output_type": "execute_result"
    }
   ],
   "source": [
    "df_Annual.head(5)"
   ]
  },
  {
   "cell_type": "code",
   "execution_count": 26,
   "metadata": {},
   "outputs": [
    {
     "data": {
      "text/plain": [
       "<matplotlib.axes._subplots.AxesSubplot at 0x11ea9d6d0>"
      ]
     },
     "execution_count": 26,
     "metadata": {},
     "output_type": "execute_result"
    },
    {
     "data": {
      "image/png": "[encoded data removed]",
      "text/plain": [
       "<Figure size 1440x360 with 1 Axes>"
      ]
     },
     "metadata": {
      "needs_background": "light"
     },
     "output_type": "display_data"
    }
   ],
   "source": [
    "df_Annual.plot()"
   ]
  },
  {
   "cell_type": "code",
   "execution_count": 27,
   "metadata": {},
   "outputs": [],
   "source": [
    "df_Annual.to_csv('histo_GDP')"
   ]
  },
  {
   "cell_type": "code",
   "execution_count": 28,
   "metadata": {},
   "outputs": [
    {
     "data": {
      "text/html": [
       "<div>\n",
       "<style scoped>\n",
       "    .dataframe tbody tr th:only-of-type {\n",
       "        vertical-align: middle;\n",
       "    }\n",
       "\n",
       "    .dataframe tbody tr th {\n",
       "        vertical-align: top;\n",
       "    }\n",
       "\n",
       "    .dataframe thead th {\n",
       "        text-align: right;\n",
       "    }\n",
       "</style>\n",
       "<table border=\"1\" class=\"dataframe\">\n",
       "  <thead>\n",
       "    <tr style=\"text-align: right;\">\n",
       "      <th></th>\n",
       "      <th>GDP</th>\n",
       "      <th>HistoGDP</th>\n",
       "    </tr>\n",
       "  </thead>\n",
       "  <tbody>\n",
       "    <tr>\n",
       "      <td>1947-01-01</td>\n",
       "      <td>243.164</td>\n",
       "      <td>235.2</td>\n",
       "    </tr>\n",
       "    <tr>\n",
       "      <td>1948-01-01</td>\n",
       "      <td>265.742</td>\n",
       "      <td>261.6</td>\n",
       "    </tr>\n",
       "    <tr>\n",
       "      <td>1949-01-01</td>\n",
       "      <td>275.034</td>\n",
       "      <td>260.4</td>\n",
       "    </tr>\n",
       "    <tr>\n",
       "      <td>1950-01-01</td>\n",
       "      <td>280.828</td>\n",
       "      <td>288.3</td>\n",
       "    </tr>\n",
       "    <tr>\n",
       "      <td>1951-01-01</td>\n",
       "      <td>336.000</td>\n",
       "      <td>333.4</td>\n",
       "    </tr>\n",
       "  </tbody>\n",
       "</table>\n",
       "</div>"
      ],
      "text/plain": [
       "                GDP HistoGDP\n",
       "1947-01-01  243.164    235.2\n",
       "1948-01-01  265.742    261.6\n",
       "1949-01-01  275.034    260.4\n",
       "1950-01-01  280.828    288.3\n",
       "1951-01-01  336.000    333.4"
      ]
     },
     "execution_count": 28,
     "metadata": {},
     "output_type": "execute_result"
    }
   ],
   "source": [
    "df_Annual[df_Annual['GDP'].notna()].head(5)"
   ]
  },
  {
   "cell_type": "markdown",
   "metadata": {},
   "source": [
    "#### Merging the two series 'GDP' and 'HistoGDP' into 'GDPconcat'"
   ]
  },
  {
   "cell_type": "code",
   "execution_count": 29,
   "metadata": {},
   "outputs": [],
   "source": [
    "# form a new annually GDP series from concating the histo_GDP(1880-01-01:1946-01-01)\n",
    "# and GDP (1947-01-01: the latest release)\n",
    "df1 = df_Annual['HistoGDP'].loc['1880-01-01':'1946-01-01']\n",
    "df2 = df_Annual['GDP'].loc['1947-01-01':]\n",
    "df_Annual['GDPconcat'] = pd.concat([df1,df2])"
   ]
  },
  {
   "cell_type": "code",
   "execution_count": 30,
   "metadata": {},
   "outputs": [
    {
     "data": {
      "text/html": [
       "<div>\n",
       "<style scoped>\n",
       "    .dataframe tbody tr th:only-of-type {\n",
       "        vertical-align: middle;\n",
       "    }\n",
       "\n",
       "    .dataframe tbody tr th {\n",
       "        vertical-align: top;\n",
       "    }\n",
       "\n",
       "    .dataframe thead th {\n",
       "        text-align: right;\n",
       "    }\n",
       "</style>\n",
       "<table border=\"1\" class=\"dataframe\">\n",
       "  <thead>\n",
       "    <tr style=\"text-align: right;\">\n",
       "      <th></th>\n",
       "      <th>GDP</th>\n",
       "      <th>HistoGDP</th>\n",
       "      <th>GDPconcat</th>\n",
       "    </tr>\n",
       "  </thead>\n",
       "  <tbody>\n",
       "    <tr>\n",
       "      <td>2016-01-01</td>\n",
       "      <td>18424.283</td>\n",
       "      <td>NaN</td>\n",
       "      <td>18424.3</td>\n",
       "    </tr>\n",
       "    <tr>\n",
       "      <td>2017-01-01</td>\n",
       "      <td>19190.431</td>\n",
       "      <td>NaN</td>\n",
       "      <td>19190.4</td>\n",
       "    </tr>\n",
       "    <tr>\n",
       "      <td>2018-01-01</td>\n",
       "      <td>20163.159</td>\n",
       "      <td>NaN</td>\n",
       "      <td>20163.2</td>\n",
       "    </tr>\n",
       "    <tr>\n",
       "      <td>2019-01-01</td>\n",
       "      <td>21098.827</td>\n",
       "      <td>NaN</td>\n",
       "      <td>21098.8</td>\n",
       "    </tr>\n",
       "    <tr>\n",
       "      <td>2020-01-01</td>\n",
       "      <td>21534.907</td>\n",
       "      <td>NaN</td>\n",
       "      <td>21534.9</td>\n",
       "    </tr>\n",
       "  </tbody>\n",
       "</table>\n",
       "</div>"
      ],
      "text/plain": [
       "                  GDP HistoGDP GDPconcat\n",
       "2016-01-01  18424.283      NaN   18424.3\n",
       "2017-01-01  19190.431      NaN   19190.4\n",
       "2018-01-01  20163.159      NaN   20163.2\n",
       "2019-01-01  21098.827      NaN   21098.8\n",
       "2020-01-01  21534.907      NaN   21534.9"
      ]
     },
     "execution_count": 30,
     "metadata": {},
     "output_type": "execute_result"
    }
   ],
   "source": [
    "df_Annual.tail(5)"
   ]
  },
  {
   "cell_type": "code",
   "execution_count": 31,
   "metadata": {},
   "outputs": [
    {
     "data": {
      "text/html": [
       "<div>\n",
       "<style scoped>\n",
       "    .dataframe tbody tr th:only-of-type {\n",
       "        vertical-align: middle;\n",
       "    }\n",
       "\n",
       "    .dataframe tbody tr th {\n",
       "        vertical-align: top;\n",
       "    }\n",
       "\n",
       "    .dataframe thead th {\n",
       "        text-align: right;\n",
       "    }\n",
       "</style>\n",
       "<table border=\"1\" class=\"dataframe\">\n",
       "  <thead>\n",
       "    <tr style=\"text-align: right;\">\n",
       "      <th></th>\n",
       "      <th>GDP</th>\n",
       "      <th>HistoGDP</th>\n",
       "      <th>GDPconcat</th>\n",
       "    </tr>\n",
       "  </thead>\n",
       "  <tbody>\n",
       "    <tr>\n",
       "      <td>1880-01-01</td>\n",
       "      <td>NaN</td>\n",
       "      <td>10.15</td>\n",
       "      <td>10.15</td>\n",
       "    </tr>\n",
       "    <tr>\n",
       "      <td>1881-01-01</td>\n",
       "      <td>NaN</td>\n",
       "      <td>11.27</td>\n",
       "      <td>11.27</td>\n",
       "    </tr>\n",
       "    <tr>\n",
       "      <td>1882-01-01</td>\n",
       "      <td>NaN</td>\n",
       "      <td>12.16</td>\n",
       "      <td>12.16</td>\n",
       "    </tr>\n",
       "    <tr>\n",
       "      <td>1883-01-01</td>\n",
       "      <td>NaN</td>\n",
       "      <td>11.55</td>\n",
       "      <td>11.55</td>\n",
       "    </tr>\n",
       "    <tr>\n",
       "      <td>1884-01-01</td>\n",
       "      <td>NaN</td>\n",
       "      <td>10.97</td>\n",
       "      <td>10.97</td>\n",
       "    </tr>\n",
       "  </tbody>\n",
       "</table>\n",
       "</div>"
      ],
      "text/plain": [
       "            GDP HistoGDP GDPconcat\n",
       "1880-01-01  NaN    10.15     10.15\n",
       "1881-01-01  NaN    11.27     11.27\n",
       "1882-01-01  NaN    12.16     12.16\n",
       "1883-01-01  NaN    11.55     11.55\n",
       "1884-01-01  NaN    10.97     10.97"
      ]
     },
     "execution_count": 31,
     "metadata": {},
     "output_type": "execute_result"
    }
   ],
   "source": [
    "df_Annual.head(5)"
   ]
  },
  {
   "cell_type": "code",
   "execution_count": 32,
   "metadata": {},
   "outputs": [
    {
     "data": {
      "text/plain": [
       "<matplotlib.axes._subplots.AxesSubplot at 0x11e90a210>"
      ]
     },
     "execution_count": 32,
     "metadata": {},
     "output_type": "execute_result"
    },
    {
     "data": {
      "image/png": "[encoded data removed]",
      "text/plain": [
       "<Figure size 1440x360 with 1 Axes>"
      ]
     },
     "metadata": {
      "needs_background": "light"
     },
     "output_type": "display_data"
    }
   ],
   "source": [
    "df_Annual.plot( title = 'GDP in Arithmetic Scale')\n"
   ]
  },
  {
   "cell_type": "code",
   "execution_count": 41,
   "metadata": {},
   "outputs": [
    {
     "data": {
      "text/plain": [
       "<matplotlib.axes._subplots.AxesSubplot at 0x1222a8f10>"
      ]
     },
     "execution_count": 41,
     "metadata": {},
     "output_type": "execute_result"
    },
    {
     "data": {
      "image/png": "[encoded data removed]",
      "text/plain": [
       "<Figure size 1440x360 with 1 Axes>"
      ]
     },
     "metadata": {
      "needs_background": "light"
     },
     "output_type": "display_data"
    }
   ],
   "source": [
    "#log scale\n",
    "df_Annual.plot(logy = True, title = 'GDP in Log Scale')"
   ]
  },
  {
   "cell_type": "markdown",
   "metadata": {},
   "source": [
    "#### Growth Rate"
   ]
  },
  {
   "cell_type": "code",
   "execution_count": 42,
   "metadata": {},
   "outputs": [],
   "source": [
    "#claim an empty dictionary called dict_Annual_return\n",
    "dict_Annual_return={}\n",
    "# First Method: Growth rate by percent change\n",
    "dict_Annual_return['pct_change'] = df_Annual['GDPconcat'].pct_change()\n",
    "# Second Method: Growth rate by log difference\n",
    "dict_Annual_return['log_diff'] = np.log(df_Annual['GDPconcat'].astype('float64'))-np.log(df_Annual['GDPconcat'].astype('float64')).shift(1)\n",
    "\n",
    "# convert the dictionary to a dataframe\n",
    "df_Annual_return = pd.DataFrame(dict_Annual_return)\n"
   ]
  },
  {
   "cell_type": "code",
   "execution_count": 43,
   "metadata": {},
   "outputs": [
    {
     "data": {
      "text/html": [
       "<div>\n",
       "<style scoped>\n",
       "    .dataframe tbody tr th:only-of-type {\n",
       "        vertical-align: middle;\n",
       "    }\n",
       "\n",
       "    .dataframe tbody tr th {\n",
       "        vertical-align: top;\n",
       "    }\n",
       "\n",
       "    .dataframe thead th {\n",
       "        text-align: right;\n",
       "    }\n",
       "</style>\n",
       "<table border=\"1\" class=\"dataframe\">\n",
       "  <thead>\n",
       "    <tr style=\"text-align: right;\">\n",
       "      <th></th>\n",
       "      <th>pct_change</th>\n",
       "      <th>log_diff</th>\n",
       "    </tr>\n",
       "  </thead>\n",
       "  <tbody>\n",
       "    <tr>\n",
       "      <td>1880-01-01</td>\n",
       "      <td>NaN</td>\n",
       "      <td>NaN</td>\n",
       "    </tr>\n",
       "    <tr>\n",
       "      <td>1881-01-01</td>\n",
       "      <td>0.110345</td>\n",
       "      <td>0.104671</td>\n",
       "    </tr>\n",
       "    <tr>\n",
       "      <td>1882-01-01</td>\n",
       "      <td>0.078971</td>\n",
       "      <td>0.076008</td>\n",
       "    </tr>\n",
       "    <tr>\n",
       "      <td>1883-01-01</td>\n",
       "      <td>-0.050164</td>\n",
       "      <td>-0.051466</td>\n",
       "    </tr>\n",
       "    <tr>\n",
       "      <td>1884-01-01</td>\n",
       "      <td>-0.050216</td>\n",
       "      <td>-0.051521</td>\n",
       "    </tr>\n",
       "  </tbody>\n",
       "</table>\n",
       "</div>"
      ],
      "text/plain": [
       "            pct_change  log_diff\n",
       "1880-01-01         NaN       NaN\n",
       "1881-01-01    0.110345  0.104671\n",
       "1882-01-01    0.078971  0.076008\n",
       "1883-01-01   -0.050164 -0.051466\n",
       "1884-01-01   -0.050216 -0.051521"
      ]
     },
     "execution_count": 43,
     "metadata": {},
     "output_type": "execute_result"
    }
   ],
   "source": [
    "df_Annual_return.head(5)"
   ]
  },
  {
   "cell_type": "code",
   "execution_count": 44,
   "metadata": {},
   "outputs": [
    {
     "data": {
      "text/html": [
       "<div>\n",
       "<style scoped>\n",
       "    .dataframe tbody tr th:only-of-type {\n",
       "        vertical-align: middle;\n",
       "    }\n",
       "\n",
       "    .dataframe tbody tr th {\n",
       "        vertical-align: top;\n",
       "    }\n",
       "\n",
       "    .dataframe thead th {\n",
       "        text-align: right;\n",
       "    }\n",
       "</style>\n",
       "<table border=\"1\" class=\"dataframe\">\n",
       "  <thead>\n",
       "    <tr style=\"text-align: right;\">\n",
       "      <th></th>\n",
       "      <th>pct_change</th>\n",
       "      <th>log_diff</th>\n",
       "    </tr>\n",
       "  </thead>\n",
       "  <tbody>\n",
       "    <tr>\n",
       "      <td>2016-01-01</td>\n",
       "      <td>0.024472</td>\n",
       "      <td>0.024177</td>\n",
       "    </tr>\n",
       "    <tr>\n",
       "      <td>2017-01-01</td>\n",
       "      <td>0.041584</td>\n",
       "      <td>0.040742</td>\n",
       "    </tr>\n",
       "    <tr>\n",
       "      <td>2018-01-01</td>\n",
       "      <td>0.050688</td>\n",
       "      <td>0.049445</td>\n",
       "    </tr>\n",
       "    <tr>\n",
       "      <td>2019-01-01</td>\n",
       "      <td>0.046405</td>\n",
       "      <td>0.045360</td>\n",
       "    </tr>\n",
       "    <tr>\n",
       "      <td>2020-01-01</td>\n",
       "      <td>0.020668</td>\n",
       "      <td>0.020458</td>\n",
       "    </tr>\n",
       "  </tbody>\n",
       "</table>\n",
       "</div>"
      ],
      "text/plain": [
       "            pct_change  log_diff\n",
       "2016-01-01    0.024472  0.024177\n",
       "2017-01-01    0.041584  0.040742\n",
       "2018-01-01    0.050688  0.049445\n",
       "2019-01-01    0.046405  0.045360\n",
       "2020-01-01    0.020668  0.020458"
      ]
     },
     "execution_count": 44,
     "metadata": {},
     "output_type": "execute_result"
    }
   ],
   "source": [
    "df_Annual_return.tail(5)"
   ]
  },
  {
   "cell_type": "code",
   "execution_count": 45,
   "metadata": {},
   "outputs": [
    {
     "data": {
      "image/png": "[encoded data removed]",
      "text/plain": [
       "<Figure size 1440x360 with 1 Axes>"
      ]
     },
     "metadata": {
      "needs_background": "light"
     },
     "output_type": "display_data"
    }
   ],
   "source": [
    "# Plot and save the figure as 'GDP_GROWTH_RATE.png'. \n",
    "fig = df_Annual_return.plot(title = 'GDP Annual Growth Rate').get_figure()\n",
    "fig.savefig('GDP_GROWTH_RATE.png')  #You could change the name of '.png' file you like"
   ]
  },
  {
   "cell_type": "markdown",
   "metadata": {},
   "source": [
    "### Obtain the summary statistics of the time series"
   ]
  },
  {
   "cell_type": "code",
   "execution_count": 46,
   "metadata": {},
   "outputs": [
    {
     "data": {
      "text/html": [
       "<div>\n",
       "<style scoped>\n",
       "    .dataframe tbody tr th:only-of-type {\n",
       "        vertical-align: middle;\n",
       "    }\n",
       "\n",
       "    .dataframe tbody tr th {\n",
       "        vertical-align: top;\n",
       "    }\n",
       "\n",
       "    .dataframe thead th {\n",
       "        text-align: right;\n",
       "    }\n",
       "</style>\n",
       "<table border=\"1\" class=\"dataframe\">\n",
       "  <thead>\n",
       "    <tr style=\"text-align: right;\">\n",
       "      <th></th>\n",
       "      <th>pct_change</th>\n",
       "      <th>log_diff</th>\n",
       "    </tr>\n",
       "  </thead>\n",
       "  <tbody>\n",
       "    <tr>\n",
       "      <td>count</td>\n",
       "      <td>140.000000</td>\n",
       "      <td>140.000000</td>\n",
       "    </tr>\n",
       "    <tr>\n",
       "      <td>mean</td>\n",
       "      <td>0.059077</td>\n",
       "      <td>0.054714</td>\n",
       "    </tr>\n",
       "    <tr>\n",
       "      <td>std</td>\n",
       "      <td>0.076123</td>\n",
       "      <td>0.074527</td>\n",
       "    </tr>\n",
       "    <tr>\n",
       "      <td>min</td>\n",
       "      <td>-0.239344</td>\n",
       "      <td>-0.273574</td>\n",
       "    </tr>\n",
       "    <tr>\n",
       "      <td>25%</td>\n",
       "      <td>0.030989</td>\n",
       "      <td>0.030519</td>\n",
       "    </tr>\n",
       "    <tr>\n",
       "      <td>50%</td>\n",
       "      <td>0.061495</td>\n",
       "      <td>0.059678</td>\n",
       "    </tr>\n",
       "    <tr>\n",
       "      <td>75%</td>\n",
       "      <td>0.093656</td>\n",
       "      <td>0.089525</td>\n",
       "    </tr>\n",
       "    <tr>\n",
       "      <td>max</td>\n",
       "      <td>0.266932</td>\n",
       "      <td>0.236598</td>\n",
       "    </tr>\n",
       "  </tbody>\n",
       "</table>\n",
       "</div>"
      ],
      "text/plain": [
       "       pct_change    log_diff\n",
       "count  140.000000  140.000000\n",
       "mean     0.059077    0.054714\n",
       "std      0.076123    0.074527\n",
       "min     -0.239344   -0.273574\n",
       "25%      0.030989    0.030519\n",
       "50%      0.061495    0.059678\n",
       "75%      0.093656    0.089525\n",
       "max      0.266932    0.236598"
      ]
     },
     "execution_count": 46,
     "metadata": {},
     "output_type": "execute_result"
    }
   ],
   "source": [
    "df_Annual_return.describe()"
   ]
  },
  {
   "cell_type": "markdown",
   "metadata": {},
   "source": [
    "#### Save the GDP Growth Rate data file to the same location as this notebook on hard drive"
   ]
  },
  {
   "cell_type": "code",
   "execution_count": 47,
   "metadata": {},
   "outputs": [],
   "source": [
    "df_Annual_return.to_csv('GDP_Growth_Rate.csv') # you could change name of the '.csv' file you like\n",
    "# .csv is a simplified excel format, you could open such file by excel by default."
   ]
  },
  {
   "cell_type": "markdown",
   "metadata": {
    "collapsed": true
   },
   "source": [
    "#### Save the merged GDP  data file to the same location as this notebook on hard drive"
   ]
  },
  {
   "cell_type": "code",
   "execution_count": 48,
   "metadata": {},
   "outputs": [],
   "source": [
    "df_Annual.to_csv('Merged_GDP.csv')"
   ]
  },
  {
   "cell_type": "markdown",
   "metadata": {},
   "source": [
    "#### Read the 'GDP_Growth_Rate.csv' from the hard drive"
   ]
  },
  {
   "cell_type": "code",
   "execution_count": 49,
   "metadata": {},
   "outputs": [
    {
     "data": {
      "text/html": [
       "<div>\n",
       "<style scoped>\n",
       "    .dataframe tbody tr th:only-of-type {\n",
       "        vertical-align: middle;\n",
       "    }\n",
       "\n",
       "    .dataframe tbody tr th {\n",
       "        vertical-align: top;\n",
       "    }\n",
       "\n",
       "    .dataframe thead th {\n",
       "        text-align: right;\n",
       "    }\n",
       "</style>\n",
       "<table border=\"1\" class=\"dataframe\">\n",
       "  <thead>\n",
       "    <tr style=\"text-align: right;\">\n",
       "      <th></th>\n",
       "      <th>pct_change</th>\n",
       "      <th>log_diff</th>\n",
       "    </tr>\n",
       "  </thead>\n",
       "  <tbody>\n",
       "    <tr>\n",
       "      <td>1880-01-01</td>\n",
       "      <td>NaN</td>\n",
       "      <td>NaN</td>\n",
       "    </tr>\n",
       "    <tr>\n",
       "      <td>1881-01-01</td>\n",
       "      <td>0.110345</td>\n",
       "      <td>0.104671</td>\n",
       "    </tr>\n",
       "    <tr>\n",
       "      <td>1882-01-01</td>\n",
       "      <td>0.078971</td>\n",
       "      <td>0.076008</td>\n",
       "    </tr>\n",
       "    <tr>\n",
       "      <td>1883-01-01</td>\n",
       "      <td>-0.050164</td>\n",
       "      <td>-0.051466</td>\n",
       "    </tr>\n",
       "    <tr>\n",
       "      <td>1884-01-01</td>\n",
       "      <td>-0.050216</td>\n",
       "      <td>-0.051521</td>\n",
       "    </tr>\n",
       "  </tbody>\n",
       "</table>\n",
       "</div>"
      ],
      "text/plain": [
       "            pct_change  log_diff\n",
       "1880-01-01         NaN       NaN\n",
       "1881-01-01    0.110345  0.104671\n",
       "1882-01-01    0.078971  0.076008\n",
       "1883-01-01   -0.050164 -0.051466\n",
       "1884-01-01   -0.050216 -0.051521"
      ]
     },
     "execution_count": 49,
     "metadata": {},
     "output_type": "execute_result"
    }
   ],
   "source": [
    "#read\n",
    "Read_df_Annual_return = pd.read_csv('GDP_Growth_Rate.csv', index_col = 0, header = 0)\n",
    "#show the first 5 rows\n",
    "Read_df_Annual_return.head(5) "
   ]
  },
  {
   "cell_type": "markdown",
   "metadata": {},
   "source": [
    "#### Read the 'Merged_GDP.csv' from the hard drive"
   ]
  },
  {
   "cell_type": "code",
   "execution_count": 50,
   "metadata": {},
   "outputs": [
    {
     "data": {
      "text/html": [
       "<div>\n",
       "<style scoped>\n",
       "    .dataframe tbody tr th:only-of-type {\n",
       "        vertical-align: middle;\n",
       "    }\n",
       "\n",
       "    .dataframe tbody tr th {\n",
       "        vertical-align: top;\n",
       "    }\n",
       "\n",
       "    .dataframe thead th {\n",
       "        text-align: right;\n",
       "    }\n",
       "</style>\n",
       "<table border=\"1\" class=\"dataframe\">\n",
       "  <thead>\n",
       "    <tr style=\"text-align: right;\">\n",
       "      <th></th>\n",
       "      <th>GDP</th>\n",
       "      <th>HistoGDP</th>\n",
       "      <th>GDPconcat</th>\n",
       "    </tr>\n",
       "  </thead>\n",
       "  <tbody>\n",
       "    <tr>\n",
       "      <td>1880-01-01</td>\n",
       "      <td>NaN</td>\n",
       "      <td>10.15</td>\n",
       "      <td>10.15</td>\n",
       "    </tr>\n",
       "    <tr>\n",
       "      <td>1881-01-01</td>\n",
       "      <td>NaN</td>\n",
       "      <td>11.27</td>\n",
       "      <td>11.27</td>\n",
       "    </tr>\n",
       "    <tr>\n",
       "      <td>1882-01-01</td>\n",
       "      <td>NaN</td>\n",
       "      <td>12.16</td>\n",
       "      <td>12.16</td>\n",
       "    </tr>\n",
       "    <tr>\n",
       "      <td>1883-01-01</td>\n",
       "      <td>NaN</td>\n",
       "      <td>11.55</td>\n",
       "      <td>11.55</td>\n",
       "    </tr>\n",
       "    <tr>\n",
       "      <td>1884-01-01</td>\n",
       "      <td>NaN</td>\n",
       "      <td>10.97</td>\n",
       "      <td>10.97</td>\n",
       "    </tr>\n",
       "  </tbody>\n",
       "</table>\n",
       "</div>"
      ],
      "text/plain": [
       "            GDP  HistoGDP  GDPconcat\n",
       "1880-01-01  NaN     10.15      10.15\n",
       "1881-01-01  NaN     11.27      11.27\n",
       "1882-01-01  NaN     12.16      12.16\n",
       "1883-01-01  NaN     11.55      11.55\n",
       "1884-01-01  NaN     10.97      10.97"
      ]
     },
     "execution_count": 50,
     "metadata": {},
     "output_type": "execute_result"
    }
   ],
   "source": [
    "#read\n",
    "Read_df_Annual = pd.read_csv('Merged_GDP.csv', index_col = 0, header = 0)\n",
    "#show the first 5 rows\n",
    "Read_df_Annual.head(5) "
   ]
  },
  {
   "cell_type": "markdown",
   "metadata": {},
   "source": []
  },
  {
   "cell_type": "code",
   "execution_count": null,
   "metadata": {
    "collapsed": true
   },
   "outputs": [],
   "source": []
  }
 ],
 "metadata": {
  "kernelspec": {
   "display_name": "Python 3",
   "language": "python",
   "name": "python3"
  },
  "language_info": {
   "codemirror_mode": {
    "name": "ipython",
    "version": 3
   },
   "file_extension": ".py",
   "mimetype": "text/x-python",
   "name": "python",
   "nbconvert_exporter": "python",
   "pygments_lexer": "ipython3",
   "version": "3.7.4"
  }
 },
 "nbformat": 4,
 "nbformat_minor": 2
}
